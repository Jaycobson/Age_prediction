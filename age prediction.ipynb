{
 "cells": [
  {
   "cell_type": "code",
   "execution_count": 1408,
   "id": "c2ab0800",
   "metadata": {},
   "outputs": [],
   "source": [
    "import numpy as np\n",
    "import pandas as pd\n",
    "from pathlib import Path\n",
    "import os.path\n",
    "import seaborn as sns\n",
    "from sklearn.model_selection import train_test_split\n",
    "\n",
    "import tensorflow as tf\n",
    "\n",
    "from sklearn.metrics import r2_score"
   ]
  },
  {
   "cell_type": "code",
   "execution_count": 1409,
   "id": "875934c8",
   "metadata": {},
   "outputs": [],
   "source": [
    "image_dir = Path('../age-prediction-dataset/20-50/20-50')"
   ]
  },
  {
   "cell_type": "code",
   "execution_count": 1410,
   "id": "9fdca3fd",
   "metadata": {},
   "outputs": [
    {
     "data": {
      "text/plain": [
       "WindowsPath('../age-prediction-dataset/20-50/20-50')"
      ]
     },
     "execution_count": 1410,
     "metadata": {},
     "output_type": "execute_result"
    }
   ],
   "source": [
    "image_dir"
   ]
  },
  {
   "cell_type": "code",
   "execution_count": 1411,
   "id": "ad91d3ef",
   "metadata": {},
   "outputs": [],
   "source": [
    "filepath = pd.Series(list(image_dir.glob(r'**/*.jpg')), name = 'Filepath').astype(str)"
   ]
  },
  {
   "cell_type": "code",
   "execution_count": 1412,
   "id": "ed281ffd",
   "metadata": {},
   "outputs": [
    {
     "data": {
      "text/plain": [
       "'..\\\\age-prediction-dataset\\\\20-50\\\\20-50\\\\test\\\\20\\\\28492.jpg'"
      ]
     },
     "execution_count": 1412,
     "metadata": {},
     "output_type": "execute_result"
    }
   ],
   "source": [
    "filepath[0]"
   ]
  },
  {
   "cell_type": "code",
   "execution_count": 1413,
   "id": "19c2cf9d",
   "metadata": {},
   "outputs": [
    {
     "data": {
      "text/plain": [
       "'20'"
      ]
     },
     "execution_count": 1413,
     "metadata": {},
     "output_type": "execute_result"
    }
   ],
   "source": [
    "os.path.split(os.path.split(filepath.values[0])[0])[1]"
   ]
  },
  {
   "cell_type": "code",
   "execution_count": 1414,
   "id": "f5884ef4",
   "metadata": {},
   "outputs": [
    {
     "name": "stderr",
     "output_type": "stream",
     "text": [
      "C:\\Users\\DELL\\AppData\\Local\\Temp\\ipykernel_13660\\894484879.py:1: DeprecationWarning: `np.int` is a deprecated alias for the builtin `int`. To silence this warning, use `int` by itself. Doing this will not modify any behavior and is safe. When replacing `np.int`, you may wish to use e.g. `np.int64` or `np.int32` to specify the precision. If you wish to review your current use, check the release note link for additional information.\n",
      "Deprecated in NumPy 1.20; for more details and guidance: https://numpy.org/devdocs/release/1.20.0-notes.html#deprecations\n",
      "  age = pd.Series(filepath.apply(lambda x :os.path.split(os.path.split(x)[0])[1]), name = 'Age').astype(np.int)\n"
     ]
    }
   ],
   "source": [
    "age = pd.Series(filepath.apply(lambda x :os.path.split(os.path.split(x)[0])[1]), name = 'Age').astype(np.int)"
   ]
  },
  {
   "cell_type": "code",
   "execution_count": 1415,
   "id": "a6940055",
   "metadata": {},
   "outputs": [],
   "source": [
    "images = pd.concat([filepath, age], axis = 1).sample(frac = 1.0,random_state = 42).reset_index(drop = True)"
   ]
  },
  {
   "cell_type": "code",
   "execution_count": 1416,
   "id": "f9324b54",
   "metadata": {
    "scrolled": true
   },
   "outputs": [
    {
     "data": {
      "text/html": [
       "<div>\n",
       "<style scoped>\n",
       "    .dataframe tbody tr th:only-of-type {\n",
       "        vertical-align: middle;\n",
       "    }\n",
       "\n",
       "    .dataframe tbody tr th {\n",
       "        vertical-align: top;\n",
       "    }\n",
       "\n",
       "    .dataframe thead th {\n",
       "        text-align: right;\n",
       "    }\n",
       "</style>\n",
       "<table border=\"1\" class=\"dataframe\">\n",
       "  <thead>\n",
       "    <tr style=\"text-align: right;\">\n",
       "      <th></th>\n",
       "      <th>Filepath</th>\n",
       "      <th>Age</th>\n",
       "    </tr>\n",
       "  </thead>\n",
       "  <tbody>\n",
       "    <tr>\n",
       "      <th>0</th>\n",
       "      <td>..\\age-prediction-dataset\\20-50\\20-50\\train\\42...</td>\n",
       "      <td>42</td>\n",
       "    </tr>\n",
       "    <tr>\n",
       "      <th>1</th>\n",
       "      <td>..\\age-prediction-dataset\\20-50\\20-50\\train\\24...</td>\n",
       "      <td>24</td>\n",
       "    </tr>\n",
       "    <tr>\n",
       "      <th>2</th>\n",
       "      <td>..\\age-prediction-dataset\\20-50\\20-50\\train\\34...</td>\n",
       "      <td>34</td>\n",
       "    </tr>\n",
       "    <tr>\n",
       "      <th>3</th>\n",
       "      <td>..\\age-prediction-dataset\\20-50\\20-50\\train\\44...</td>\n",
       "      <td>44</td>\n",
       "    </tr>\n",
       "    <tr>\n",
       "      <th>4</th>\n",
       "      <td>..\\age-prediction-dataset\\20-50\\20-50\\test\\31\\...</td>\n",
       "      <td>31</td>\n",
       "    </tr>\n",
       "  </tbody>\n",
       "</table>\n",
       "</div>"
      ],
      "text/plain": [
       "                                            Filepath  Age\n",
       "0  ..\\age-prediction-dataset\\20-50\\20-50\\train\\42...   42\n",
       "1  ..\\age-prediction-dataset\\20-50\\20-50\\train\\24...   24\n",
       "2  ..\\age-prediction-dataset\\20-50\\20-50\\train\\34...   34\n",
       "3  ..\\age-prediction-dataset\\20-50\\20-50\\train\\44...   44\n",
       "4  ..\\age-prediction-dataset\\20-50\\20-50\\test\\31\\...   31"
      ]
     },
     "execution_count": 1416,
     "metadata": {},
     "output_type": "execute_result"
    }
   ],
   "source": [
    "images.head()"
   ]
  },
  {
   "cell_type": "code",
   "execution_count": 1417,
   "id": "ce5322ae",
   "metadata": {},
   "outputs": [
    {
     "data": {
      "text/plain": [
       "<seaborn.axisgrid.FacetGrid at 0x1c682a87250>"
      ]
     },
     "execution_count": 1417,
     "metadata": {},
     "output_type": "execute_result"
    },
    {
     "data": {
      "image/png": "[encoded data removed]",
      "text/plain": [
       "<Figure size 500x500 with 1 Axes>"
      ]
     },
     "metadata": {},
     "output_type": "display_data"
    }
   ],
   "source": [
    "sns.displot(images['Age'], kde=False)"
   ]
  },
  {
   "cell_type": "code",
   "execution_count": 1418,
   "id": "a4f30610",
   "metadata": {},
   "outputs": [],
   "source": [
    "image_df = images.sample(6000, random_state =42).reset_index(drop=True)"
   ]
  },
  {
   "cell_type": "code",
   "execution_count": 1419,
   "id": "e7c496c0",
   "metadata": {},
   "outputs": [],
   "source": [
    "train_df, test_df = train_test_split(image_df, test_size = 0.3, shuffle = True,random_state = 42)"
   ]
  },
  {
   "cell_type": "code",
   "execution_count": 1420,
   "id": "ce8678f2",
   "metadata": {},
   "outputs": [
    {
     "name": "stdout",
     "output_type": "stream",
     "text": [
      "(4200, 2)\n",
      "(1800, 2)\n"
     ]
    }
   ],
   "source": [
    "print(train_df.shape)\n",
    "print(test_df.shape)"
   ]
  },
  {
   "cell_type": "code",
   "execution_count": 1421,
   "id": "9c6b9ad6",
   "metadata": {},
   "outputs": [],
   "source": [
    "import os\n",
    "import PIL"
   ]
  },
  {
   "cell_type": "code",
   "execution_count": 1422,
   "id": "e7a2af49",
   "metadata": {
    "scrolled": true
   },
   "outputs": [
    {
     "data": {
      "text/html": [
       "<div>\n",
       "<style scoped>\n",
       "    .dataframe tbody tr th:only-of-type {\n",
       "        vertical-align: middle;\n",
       "    }\n",
       "\n",
       "    .dataframe tbody tr th {\n",
       "        vertical-align: top;\n",
       "    }\n",
       "\n",
       "    .dataframe thead th {\n",
       "        text-align: right;\n",
       "    }\n",
       "</style>\n",
       "<table border=\"1\" class=\"dataframe\">\n",
       "  <thead>\n",
       "    <tr style=\"text-align: right;\">\n",
       "      <th></th>\n",
       "      <th>Filepath</th>\n",
       "      <th>Age</th>\n",
       "    </tr>\n",
       "  </thead>\n",
       "  <tbody>\n",
       "    <tr>\n",
       "      <th>4775</th>\n",
       "      <td>..\\age-prediction-dataset\\20-50\\20-50\\train\\37...</td>\n",
       "      <td>37</td>\n",
       "    </tr>\n",
       "    <tr>\n",
       "      <th>927</th>\n",
       "      <td>..\\age-prediction-dataset\\20-50\\20-50\\train\\27...</td>\n",
       "      <td>27</td>\n",
       "    </tr>\n",
       "    <tr>\n",
       "      <th>3258</th>\n",
       "      <td>..\\age-prediction-dataset\\20-50\\20-50\\train\\27...</td>\n",
       "      <td>27</td>\n",
       "    </tr>\n",
       "    <tr>\n",
       "      <th>45</th>\n",
       "      <td>..\\age-prediction-dataset\\20-50\\20-50\\train\\39...</td>\n",
       "      <td>39</td>\n",
       "    </tr>\n",
       "    <tr>\n",
       "      <th>1260</th>\n",
       "      <td>..\\age-prediction-dataset\\20-50\\20-50\\train\\29...</td>\n",
       "      <td>29</td>\n",
       "    </tr>\n",
       "  </tbody>\n",
       "</table>\n",
       "</div>"
      ],
      "text/plain": [
       "                                               Filepath  Age\n",
       "4775  ..\\age-prediction-dataset\\20-50\\20-50\\train\\37...   37\n",
       "927   ..\\age-prediction-dataset\\20-50\\20-50\\train\\27...   27\n",
       "3258  ..\\age-prediction-dataset\\20-50\\20-50\\train\\27...   27\n",
       "45    ..\\age-prediction-dataset\\20-50\\20-50\\train\\39...   39\n",
       "1260  ..\\age-prediction-dataset\\20-50\\20-50\\train\\29...   29"
      ]
     },
     "execution_count": 1422,
     "metadata": {},
     "output_type": "execute_result"
    }
   ],
   "source": [
    "train_df.head()"
   ]
  },
  {
   "cell_type": "code",
   "execution_count": 1423,
   "id": "aae1e50c",
   "metadata": {},
   "outputs": [],
   "source": [
    "width,height = 1000,1000"
   ]
  },
  {
   "cell_type": "code",
   "execution_count": 1424,
   "id": "ced76e75",
   "metadata": {},
   "outputs": [],
   "source": [
    "for t in train_df['Filepath']:\n",
    "    img = PIL.Image.open(t)\n",
    "    w, h = img.size\n",
    "    if w < width:\n",
    "        width = w\n",
    "    if h < height:\n",
    "        height = h\n",
    "\n",
    "IMG_WIDTH = width\n",
    "IMG_HEIGHT = height\n",
    "IMG_CHANNELS = 3"
   ]
  },
  {
   "cell_type": "code",
   "execution_count": 1425,
   "id": "3eb158ab",
   "metadata": {},
   "outputs": [
    {
     "data": {
      "text/plain": [
       "128"
      ]
     },
     "execution_count": 1425,
     "metadata": {},
     "output_type": "execute_result"
    }
   ],
   "source": [
    "IMG_WIDTH"
   ]
  },
  {
   "cell_type": "code",
   "execution_count": 1426,
   "id": "14ddbad0",
   "metadata": {},
   "outputs": [
    {
     "data": {
      "text/plain": [
       "128"
      ]
     },
     "execution_count": 1426,
     "metadata": {},
     "output_type": "execute_result"
    }
   ],
   "source": [
    "IMG_HEIGHT"
   ]
  },
  {
   "cell_type": "code",
   "execution_count": null,
   "id": "29578b49",
   "metadata": {},
   "outputs": [],
   "source": []
  },
  {
   "cell_type": "code",
   "execution_count": 1427,
   "id": "2612c6f3",
   "metadata": {},
   "outputs": [],
   "source": [
    "train_gen = tf.keras.preprocessing.image.ImageDataGenerator(\n",
    "    rescale=1./255,\n",
    "    validation_split=0.2\n",
    ")"
   ]
  },
  {
   "cell_type": "code",
   "execution_count": 1428,
   "id": "422316d2",
   "metadata": {},
   "outputs": [],
   "source": [
    "test_gen = tf.keras.preprocessing.image.ImageDataGenerator(\n",
    "    rescale=1./255,\n",
    "    \n",
    ")"
   ]
  },
  {
   "cell_type": "code",
   "execution_count": 1429,
   "id": "c8db2698",
   "metadata": {},
   "outputs": [
    {
     "name": "stdout",
     "output_type": "stream",
     "text": [
      "Found 3360 validated image filenames.\n",
      "Found 840 validated image filenames.\n",
      "Found 1800 validated image filenames.\n"
     ]
    }
   ],
   "source": [
    "train_images = train_gen.flow_from_dataframe(\n",
    "dataframe = train_df,\n",
    "x_col = 'Filepath',\n",
    "y_col = 'Age',\n",
    "target = (120,120),\n",
    "color_mode = 'rgb',\n",
    "class_mode = 'raw',\n",
    "batch_size = 32, \n",
    "shuffle = True,\n",
    "seed = 42,\n",
    "subset = 'training'\n",
    ")\n",
    "\n",
    "val_images = train_gen.flow_from_dataframe(\n",
    "dataframe = train_df,\n",
    "x_col = 'Filepath',\n",
    "y_col = 'Age',\n",
    "target = (120,120),\n",
    "color_mode = 'rgb',\n",
    "class_mode = 'raw',\n",
    "batch_size = 32, \n",
    "shuffle = True,\n",
    "seed = 42,\n",
    "subset = 'validation'\n",
    ")\n",
    "\n",
    "test_images = test_gen.flow_from_dataframe(\n",
    "dataframe = test_df,\n",
    "x_col = 'Filepath',\n",
    "y_col = 'Age',\n",
    "target = (120,120),\n",
    "color_mode = 'rgb',\n",
    "class_mode = 'raw',\n",
    "batch_size = 32, \n",
    "shuffle = False\n",
    ")"
   ]
  },
  {
   "cell_type": "code",
   "execution_count": 1430,
   "id": "97b06e4b",
   "metadata": {},
   "outputs": [],
   "source": [
    "Inputs = tf.keras.Input((120,120,3))\n",
    "x = tf.keras.layers.Conv2D(filters = 16, kernel_size = (3,3), activation = 'relu')(Inputs)"
   ]
  },
  {
   "cell_type": "code",
   "execution_count": 1433,
   "id": "9c4d389f",
   "metadata": {},
   "outputs": [],
   "source": [
    "x=tf.keras.layers.BatchNormalization()(x)"
   ]
  },
  {
   "cell_type": "code",
   "execution_count": 1434,
   "id": "ee9f40b5",
   "metadata": {},
   "outputs": [],
   "source": [
    "x = tf.keras.layers.AveragePooling2D()(x)"
   ]
  },
  {
   "cell_type": "code",
   "execution_count": 1435,
   "id": "fa76292d",
   "metadata": {},
   "outputs": [],
   "source": [
    "x = tf.keras.layers.Dropout(0.3)(x)"
   ]
  },
  {
   "cell_type": "code",
   "execution_count": 1437,
   "id": "8fb186e7",
   "metadata": {},
   "outputs": [],
   "source": [
    "x = tf.keras.layers.Conv2D(filters = 32, kernel_size = (3,3), activation = 'relu')(x)"
   ]
  },
  {
   "cell_type": "code",
   "execution_count": 1438,
   "id": "076c07b6",
   "metadata": {},
   "outputs": [],
   "source": [
    "x=tf.keras.layers.BatchNormalization()(x)"
   ]
  },
  {
   "cell_type": "code",
   "execution_count": 1439,
   "id": "3dd76781",
   "metadata": {},
   "outputs": [],
   "source": [
    "x = tf.keras.layers.AveragePooling2D()(x)"
   ]
  },
  {
   "cell_type": "code",
   "execution_count": 1441,
   "id": "a86f6e29",
   "metadata": {},
   "outputs": [],
   "source": [
    "x = tf.keras.layers.Dropout(0.3)(x)"
   ]
  },
  {
   "cell_type": "code",
   "execution_count": 1442,
   "id": "39eb4cbb",
   "metadata": {},
   "outputs": [],
   "source": [
    "x = tf.keras.layers.Conv2D(filters = 32, kernel_size = (3,3), activation = 'relu')(x)"
   ]
  },
  {
   "cell_type": "code",
   "execution_count": 1443,
   "id": "253ffe23",
   "metadata": {},
   "outputs": [],
   "source": [
    "x=tf.keras.layers.BatchNormalization()(x)"
   ]
  },
  {
   "cell_type": "code",
   "execution_count": 1444,
   "id": "fdde51f2",
   "metadata": {},
   "outputs": [],
   "source": [
    "x = tf.keras.layers.MaxPool2D()(x)"
   ]
  },
  {
   "cell_type": "code",
   "execution_count": 1445,
   "id": "101d17a3",
   "metadata": {},
   "outputs": [],
   "source": [
    "x =tf.keras.layers.Dropout(0.2)(x)"
   ]
  },
  {
   "cell_type": "code",
   "execution_count": 1448,
   "id": "94de477d",
   "metadata": {},
   "outputs": [],
   "source": [
    "x = tf.keras.layers.GlobalAveragePooling2D()(x)"
   ]
  },
  {
   "cell_type": "code",
   "execution_count": 1449,
   "id": "626f69fb",
   "metadata": {},
   "outputs": [],
   "source": [
    "#x = tf.keras.layers.Dense(128, activation = 'relu')(x)\n",
    "x = tf.keras.layers.Dense(32, activation = 'relu')(x)"
   ]
  },
  {
   "cell_type": "code",
   "execution_count": 1451,
   "id": "4596b5d0",
   "metadata": {},
   "outputs": [],
   "source": [
    "output = tf.keras.layers.Dense(1, activation = 'linear')(x)"
   ]
  },
  {
   "cell_type": "code",
   "execution_count": 1452,
   "id": "c42609b7",
   "metadata": {},
   "outputs": [
    {
     "data": {
      "text/plain": [
       "<KerasTensor: shape=(None, 1) dtype=float32 (created by layer 'dense_87')>"
      ]
     },
     "execution_count": 1452,
     "metadata": {},
     "output_type": "execute_result"
    }
   ],
   "source": [
    "output"
   ]
  },
  {
   "cell_type": "code",
   "execution_count": 1453,
   "id": "54faf27d",
   "metadata": {},
   "outputs": [],
   "source": [
    "model = tf.keras.Model(inputs = Inputs, outputs = output)"
   ]
  },
  {
   "cell_type": "code",
   "execution_count": 1454,
   "id": "96912542",
   "metadata": {
    "scrolled": true
   },
   "outputs": [
    {
     "name": "stdout",
     "output_type": "stream",
     "text": [
      "Model: \"model_30\"\n",
      "_________________________________________________________________\n",
      " Layer (type)                Output Shape              Param #   \n",
      "=================================================================\n",
      " input_35 (InputLayer)       [(None, 120, 120, 3)]     0         \n",
      "                                                                 \n",
      " conv2d_75 (Conv2D)          (None, 118, 118, 16)      448       \n",
      "                                                                 \n",
      " batch_normalization_37 (Bat  (None, 118, 118, 16)     64        \n",
      " chNormalization)                                                \n",
      "                                                                 \n",
      " average_pooling2d_31 (Avera  (None, 59, 59, 16)       0         \n",
      " gePooling2D)                                                    \n",
      "                                                                 \n",
      " dropout_2 (Dropout)         (None, 59, 59, 16)        0         \n",
      "                                                                 \n",
      " conv2d_76 (Conv2D)          (None, 57, 57, 32)        4640      \n",
      "                                                                 \n",
      " batch_normalization_38 (Bat  (None, 57, 57, 32)       128       \n",
      " chNormalization)                                                \n",
      "                                                                 \n",
      " average_pooling2d_32 (Avera  (None, 28, 28, 32)       0         \n",
      " gePooling2D)                                                    \n",
      "                                                                 \n",
      " dropout_3 (Dropout)         (None, 28, 28, 32)        0         \n",
      "                                                                 \n",
      " conv2d_77 (Conv2D)          (None, 26, 26, 32)        9248      \n",
      "                                                                 \n",
      " batch_normalization_39 (Bat  (None, 26, 26, 32)       128       \n",
      " chNormalization)                                                \n",
      "                                                                 \n",
      " max_pooling2d_42 (MaxPoolin  (None, 13, 13, 32)       0         \n",
      " g2D)                                                            \n",
      "                                                                 \n",
      " dropout_4 (Dropout)         (None, 13, 13, 32)        0         \n",
      "                                                                 \n",
      " global_average_pooling2d_27  (None, 32)               0         \n",
      "  (GlobalAveragePooling2D)                                       \n",
      "                                                                 \n",
      " dense_86 (Dense)            (None, 32)                1056      \n",
      "                                                                 \n",
      " dense_87 (Dense)            (None, 1)                 33        \n",
      "                                                                 \n",
      "=================================================================\n",
      "Total params: 15,745\n",
      "Trainable params: 15,585\n",
      "Non-trainable params: 160\n",
      "_________________________________________________________________\n"
     ]
    }
   ],
   "source": [
    "model.summary()"
   ]
  },
  {
   "cell_type": "code",
   "execution_count": 1455,
   "id": "29b085b2",
   "metadata": {},
   "outputs": [],
   "source": [
    "from keras.optimizers import Adam"
   ]
  },
  {
   "cell_type": "code",
   "execution_count": 1456,
   "id": "e9753753",
   "metadata": {},
   "outputs": [],
   "source": [
    "model.compile(optimizer=tf.keras.optimizers.Adam(learning_rate=1e-2),\n",
    "              loss=tf.keras.losses.MeanSquaredError(),\n",
    "             metrics = [tf.keras.metrics.MeanAbsoluteError()])"
   ]
  },
  {
   "cell_type": "code",
   "execution_count": 1457,
   "id": "34be024a",
   "metadata": {
    "scrolled": false
   },
   "outputs": [
    {
     "name": "stdout",
     "output_type": "stream",
     "text": [
      "Epoch 1/20\n",
      "105/105 [==============================] - 288s 3s/step - loss: 179.6449 - mean_absolute_error: 10.4041 - val_loss: 305.8795 - val_mean_absolute_error: 15.0416\n",
      "Epoch 2/20\n",
      "105/105 [==============================] - 286s 3s/step - loss: 84.2658 - mean_absolute_error: 7.8505 - val_loss: 127.9858 - val_mean_absolute_error: 9.3937\n",
      "Epoch 3/20\n",
      "105/105 [==============================] - 286s 3s/step - loss: 84.8631 - mean_absolute_error: 7.8731 - val_loss: 168.2803 - val_mean_absolute_error: 10.7515\n",
      "Epoch 4/20\n",
      "105/105 [==============================] - 286s 3s/step - loss: 82.8176 - mean_absolute_error: 7.7768 - val_loss: 85.9700 - val_mean_absolute_error: 7.8249\n",
      "Epoch 5/20\n",
      "105/105 [==============================] - 283s 3s/step - loss: 82.1417 - mean_absolute_error: 7.7496 - val_loss: 120.2478 - val_mean_absolute_error: 9.1856\n",
      "Epoch 6/20\n",
      "105/105 [==============================] - 275s 3s/step - loss: 83.6109 - mean_absolute_error: 7.8118 - val_loss: 86.4634 - val_mean_absolute_error: 7.9622\n",
      "Epoch 7/20\n",
      "105/105 [==============================] - 285s 3s/step - loss: 81.9913 - mean_absolute_error: 7.7441 - val_loss: 81.8003 - val_mean_absolute_error: 7.6941\n",
      "Epoch 8/20\n",
      "105/105 [==============================] - 288s 3s/step - loss: 83.1171 - mean_absolute_error: 7.8034 - val_loss: 80.9105 - val_mean_absolute_error: 7.6818\n",
      "Epoch 9/20\n",
      "105/105 [==============================] - 283s 3s/step - loss: 83.1196 - mean_absolute_error: 7.7880 - val_loss: 91.3708 - val_mean_absolute_error: 8.1095\n",
      "Epoch 10/20\n",
      "105/105 [==============================] - 283s 3s/step - loss: 82.4259 - mean_absolute_error: 7.7826 - val_loss: 90.8472 - val_mean_absolute_error: 7.9850\n",
      "Epoch 11/20\n",
      "105/105 [==============================] - 287s 3s/step - loss: 83.4611 - mean_absolute_error: 7.8166 - val_loss: 83.0165 - val_mean_absolute_error: 7.7271\n",
      "Epoch 12/20\n",
      "105/105 [==============================] - 283s 3s/step - loss: 81.0796 - mean_absolute_error: 7.7361 - val_loss: 91.2283 - val_mean_absolute_error: 8.0003\n",
      "Epoch 13/20\n",
      "105/105 [==============================] - 287s 3s/step - loss: 82.7216 - mean_absolute_error: 7.7800 - val_loss: 95.1403 - val_mean_absolute_error: 8.1440\n"
     ]
    }
   ],
   "source": [
    "#history = model.fit(train_images, validation_data = val_images, epochs = 5\n",
    "                   \n",
    "\n",
    "history = model.fit(train_images, validation_data = val_images, epochs = 20,\n",
    "                    callbacks = [\n",
    "                        tf.keras.callbacks.EarlyStopping(\n",
    "                        monitor = 'val_loss',\n",
    "                        patience = 5,\n",
    "                        restore_best_weights = True)\n",
    "                    ]\n",
    "                   )"
   ]
  },
  {
   "cell_type": "code",
   "execution_count": 1458,
   "id": "55c3f909",
   "metadata": {},
   "outputs": [
    {
     "data": {
      "text/plain": [
       "Filepath    object\n",
       "Age          int32\n",
       "dtype: object"
      ]
     },
     "execution_count": 1458,
     "metadata": {},
     "output_type": "execute_result"
    }
   ],
   "source": [
    "train_df.dtypes"
   ]
  },
  {
   "cell_type": "code",
   "execution_count": 1459,
   "id": "a3a83e89",
   "metadata": {},
   "outputs": [
    {
     "name": "stdout",
     "output_type": "stream",
     "text": [
      "57/57 [==============================] - 43s 741ms/step\n"
     ]
    }
   ],
   "source": [
    "predicted_ages = np.squeeze(model.predict(test_images))\n",
    "true_ages = test_images.labels"
   ]
  },
  {
   "cell_type": "code",
   "execution_count": 1461,
   "id": "ab4addba",
   "metadata": {},
   "outputs": [
    {
     "data": {
      "text/plain": [
       "array([8.96335857, 2.77724657])"
      ]
     },
     "execution_count": 1461,
     "metadata": {},
     "output_type": "execute_result"
    }
   ],
   "source": [
    "rmse"
   ]
  },
  {
   "cell_type": "code",
   "execution_count": 1463,
   "id": "fc0dcb6c",
   "metadata": {},
   "outputs": [
    {
     "name": "stdout",
     "output_type": "stream",
     "text": [
      "Null/Baseline Model Test RMSE: 8.87110\n"
     ]
    }
   ],
   "source": [
    "null_rmse = np.sqrt(np.sum((true_ages - np.mean(true_ages))**2) / len(true_ages))\n",
    "print(\"Null/Baseline Model Test RMSE: {:.5f}\".format(null_rmse))"
   ]
  }
 ],
 "metadata": {
  "kernelspec": {
   "display_name": "Python 3 (ipykernel)",
   "language": "python",
   "name": "python3"
  },
  "language_info": {
   "codemirror_mode": {
    "name": "ipython",
    "version": 3
   },
   "file_extension": ".py",
   "mimetype": "text/x-python",
   "name": "python",
   "nbconvert_exporter": "python",
   "pygments_lexer": "ipython3",
   "version": "3.9.13"
  }
 },
 "nbformat": 4,
 "nbformat_minor": 5
}
